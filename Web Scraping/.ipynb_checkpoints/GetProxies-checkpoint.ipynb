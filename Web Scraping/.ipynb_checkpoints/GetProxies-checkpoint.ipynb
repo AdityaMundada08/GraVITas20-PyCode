{
 "cells": [
  {
   "cell_type": "code",
   "execution_count": 1,
   "metadata": {},
   "outputs": [
    {
     "name": "stdout",
     "output_type": "stream",
     "text": [
      "https? yes or no: yes\n",
      "\n",
      "['212.87.220.2:3128', '46.225.241.66:3128', '95.174.67.50:18080', '83.97.23.90:18080', '144.217.101.245:3129', '212.83.174.222:3838', '164.100.130.128:8080', '198.50.163.192:3129', '95.104.54.227:42119', '62.171.177.113:8888', '36.89.183.253:33381', '162.144.106.161:3838', '118.174.234.21:43195', '35.240.200.223:1080']\n"
     ]
    }
   ],
   "source": [
    "import urllib\n",
    "from bs4 import BeautifulSoup\n",
    "import warnings\n",
    "warnings.filterwarnings(\"ignore\",category=UserWarning,module=\"bs4\")\n",
    "import random\n",
    "\n",
    "headers=[\n",
    "        ('Host', \"free-proxy-list.net\"),\n",
    "        ('Accept', \"text/html,application/xhtml+xml,application/xml;q=0.9,image/webp,image/apng,*/*;q=0.8\"),\n",
    "        ('Accept-Language', \"en-GB,en-US;q=0.9,en;q=0.8\"),\n",
    "        ('X-Requested-With', \"XMLHttpRequest\"),\n",
    "        ('Referer', \"url\"),\n",
    "        ('Connection', \"keep-alive\"),\n",
    "        ('User-Agent', \"Mozilla/5.0 (Windows NT 6.1; WOW64) AppleWebKit/537.1 (KHTML, like Gecko) Chrome/22.0.1207.1 Safari/537.1\"),  #Keep this as last because of pop used\n",
    "]\n",
    "\n",
    "proxy_type = input(\"https? yes or no: \")\n",
    "print()\n",
    "\n",
    "opener=urllib.request.build_opener()\n",
    "opener.addheaders=headers\n",
    "\n",
    "url='https://free-proxy-list.net/'\n",
    "\n",
    "response=opener.open(url)\n",
    "\n",
    "soup=BeautifulSoup(response)\n",
    "\n",
    "proxyListTable = soup.find(\"table\",{\"id\":\"proxylisttable\"})\n",
    "\n",
    "allRows = proxyListTable.findAll(\"tr\")\n",
    "\n",
    "proxies=[]\n",
    "for row in allRows:\n",
    "    rowData = row.findAll('td')\n",
    "    url = ''\n",
    "    if rowData and rowData[4] and rowData[4].text == 'elite proxy' and rowData[6].text == proxy_type:\n",
    "        url = url + rowData[0].text + ':' + rowData[1].text\n",
    "        proxies.append(url)\n",
    "\n",
    "print(proxies)\n"
   ]
  },
  {
   "cell_type": "code",
   "execution_count": null,
   "metadata": {},
   "outputs": [],
   "source": []
  }
 ],
 "metadata": {
  "kernelspec": {
   "display_name": "Python 3",
   "language": "python",
   "name": "python3"
  },
  "language_info": {
   "codemirror_mode": {
    "name": "ipython",
    "version": 3
   },
   "file_extension": ".py",
   "mimetype": "text/x-python",
   "name": "python",
   "nbconvert_exporter": "python",
   "pygments_lexer": "ipython3",
   "version": "3.6.6"
  }
 },
 "nbformat": 4,
 "nbformat_minor": 2
}
